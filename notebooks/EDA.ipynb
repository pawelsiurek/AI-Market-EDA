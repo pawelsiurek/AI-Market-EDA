{
 "cells": [
  {
   "cell_type": "markdown",
   "id": "77ed62e6",
   "metadata": {},
   "source": [
    "# Exploratory Data Analysis - Global Salaries in AI Market"
   ]
  },
  {
   "cell_type": "markdown",
   "id": "3da46ff7",
   "metadata": {},
   "source": [
    "## Importing Data & Quick Look What We're Working With"
   ]
  },
  {
   "cell_type": "code",
   "execution_count": 13,
   "id": "ec063924",
   "metadata": {},
   "outputs": [],
   "source": [
    "import zipfile\n",
    "\n",
    "FILE_PATH = '../data/global-ai-job-market-and-salary-trends-2025.zip'\n",
    "EXTRACT_PATH = '../data/'\n",
    "\n",
    "with zipfile.ZipFile(FILE_PATH, 'r') as zip_ref:\n",
    "    zip_ref.extractall(EXTRACT_PATH)\n"
   ]
  },
  {
   "cell_type": "code",
   "execution_count": null,
   "id": "8151cb15",
   "metadata": {},
   "outputs": [
    {
     "data": {
      "text/html": [
       "<div>\n",
       "<style scoped>\n",
       "    .dataframe tbody tr th:only-of-type {\n",
       "        vertical-align: middle;\n",
       "    }\n",
       "\n",
       "    .dataframe tbody tr th {\n",
       "        vertical-align: top;\n",
       "    }\n",
       "\n",
       "    .dataframe thead th {\n",
       "        text-align: right;\n",
       "    }\n",
       "</style>\n",
       "<table border=\"1\" class=\"dataframe\">\n",
       "  <thead>\n",
       "    <tr style=\"text-align: right;\">\n",
       "      <th></th>\n",
       "      <th>job_id</th>\n",
       "      <th>job_title</th>\n",
       "      <th>salary_usd</th>\n",
       "      <th>salary_currency</th>\n",
       "      <th>experience_level</th>\n",
       "      <th>employment_type</th>\n",
       "      <th>company_location</th>\n",
       "      <th>company_size</th>\n",
       "      <th>employee_residence</th>\n",
       "      <th>remote_ratio</th>\n",
       "      <th>required_skills</th>\n",
       "      <th>education_required</th>\n",
       "      <th>years_experience</th>\n",
       "      <th>industry</th>\n",
       "      <th>posting_date</th>\n",
       "      <th>application_deadline</th>\n",
       "      <th>job_description_length</th>\n",
       "      <th>benefits_score</th>\n",
       "      <th>company_name</th>\n",
       "    </tr>\n",
       "  </thead>\n",
       "  <tbody>\n",
       "    <tr>\n",
       "      <th>0</th>\n",
       "      <td>AI00001</td>\n",
       "      <td>AI Research Scientist</td>\n",
       "      <td>90376</td>\n",
       "      <td>USD</td>\n",
       "      <td>SE</td>\n",
       "      <td>CT</td>\n",
       "      <td>China</td>\n",
       "      <td>M</td>\n",
       "      <td>China</td>\n",
       "      <td>50</td>\n",
       "      <td>Tableau, PyTorch, Kubernetes, Linux, NLP</td>\n",
       "      <td>Bachelor</td>\n",
       "      <td>9</td>\n",
       "      <td>Automotive</td>\n",
       "      <td>2024-10-18</td>\n",
       "      <td>2024-11-07</td>\n",
       "      <td>1076</td>\n",
       "      <td>5.9</td>\n",
       "      <td>Smart Analytics</td>\n",
       "    </tr>\n",
       "    <tr>\n",
       "      <th>1</th>\n",
       "      <td>AI00002</td>\n",
       "      <td>AI Software Engineer</td>\n",
       "      <td>61895</td>\n",
       "      <td>USD</td>\n",
       "      <td>EN</td>\n",
       "      <td>CT</td>\n",
       "      <td>Canada</td>\n",
       "      <td>M</td>\n",
       "      <td>Ireland</td>\n",
       "      <td>100</td>\n",
       "      <td>Deep Learning, AWS, Mathematics, Python, Docker</td>\n",
       "      <td>Master</td>\n",
       "      <td>1</td>\n",
       "      <td>Media</td>\n",
       "      <td>2024-11-20</td>\n",
       "      <td>2025-01-11</td>\n",
       "      <td>1268</td>\n",
       "      <td>5.2</td>\n",
       "      <td>TechCorp Inc</td>\n",
       "    </tr>\n",
       "    <tr>\n",
       "      <th>2</th>\n",
       "      <td>AI00003</td>\n",
       "      <td>AI Specialist</td>\n",
       "      <td>152626</td>\n",
       "      <td>USD</td>\n",
       "      <td>MI</td>\n",
       "      <td>FL</td>\n",
       "      <td>Switzerland</td>\n",
       "      <td>L</td>\n",
       "      <td>South Korea</td>\n",
       "      <td>0</td>\n",
       "      <td>Kubernetes, Deep Learning, Java, Hadoop, NLP</td>\n",
       "      <td>Associate</td>\n",
       "      <td>2</td>\n",
       "      <td>Education</td>\n",
       "      <td>2025-03-18</td>\n",
       "      <td>2025-04-07</td>\n",
       "      <td>1974</td>\n",
       "      <td>9.4</td>\n",
       "      <td>Autonomous Tech</td>\n",
       "    </tr>\n",
       "  </tbody>\n",
       "</table>\n",
       "</div>"
      ],
      "text/plain": [
       "    job_id              job_title  salary_usd salary_currency  \\\n",
       "0  AI00001  AI Research Scientist       90376             USD   \n",
       "1  AI00002   AI Software Engineer       61895             USD   \n",
       "2  AI00003          AI Specialist      152626             USD   \n",
       "\n",
       "  experience_level employment_type company_location company_size  \\\n",
       "0               SE              CT            China            M   \n",
       "1               EN              CT           Canada            M   \n",
       "2               MI              FL      Switzerland            L   \n",
       "\n",
       "  employee_residence  remote_ratio  \\\n",
       "0              China            50   \n",
       "1            Ireland           100   \n",
       "2        South Korea             0   \n",
       "\n",
       "                                   required_skills education_required  \\\n",
       "0         Tableau, PyTorch, Kubernetes, Linux, NLP           Bachelor   \n",
       "1  Deep Learning, AWS, Mathematics, Python, Docker             Master   \n",
       "2     Kubernetes, Deep Learning, Java, Hadoop, NLP          Associate   \n",
       "\n",
       "   years_experience    industry posting_date application_deadline  \\\n",
       "0                 9  Automotive   2024-10-18           2024-11-07   \n",
       "1                 1       Media   2024-11-20           2025-01-11   \n",
       "2                 2   Education   2025-03-18           2025-04-07   \n",
       "\n",
       "   job_description_length  benefits_score     company_name  \n",
       "0                    1076             5.9  Smart Analytics  \n",
       "1                    1268             5.2     TechCorp Inc  \n",
       "2                    1974             9.4  Autonomous Tech  "
      ]
     },
     "execution_count": 17,
     "metadata": {},
     "output_type": "execute_result"
    }
   ],
   "source": [
    "import pandas as pd\n",
    "\n",
    "DATA_PATH = '../data/ai_job_dataset.csv'\n",
    "\n",
    "df = pd.read_csv(DATA_PATH)\n",
    "df.head(3)"
   ]
  },
  {
   "cell_type": "markdown",
   "id": "d597f879",
   "metadata": {},
   "source": [
    "### Basic Data Checks"
   ]
  },
  {
   "cell_type": "code",
   "execution_count": 35,
   "id": "4b11e402",
   "metadata": {},
   "outputs": [
    {
     "name": "stdout",
     "output_type": "stream",
     "text": [
      "##############################################\n",
      "Shape of the dataset: (15000, 19)\n",
      "##############################################\n",
      "<class 'pandas.core.frame.DataFrame'>\n",
      "RangeIndex: 15000 entries, 0 to 14999\n",
      "Data columns (total 19 columns):\n",
      " #   Column                  Non-Null Count  Dtype  \n",
      "---  ------                  --------------  -----  \n",
      " 0   job_id                  15000 non-null  object \n",
      " 1   job_title               15000 non-null  object \n",
      " 2   salary_usd              15000 non-null  int64  \n",
      " 3   salary_currency         15000 non-null  object \n",
      " 4   experience_level        15000 non-null  object \n",
      " 5   employment_type         15000 non-null  object \n",
      " 6   company_location        15000 non-null  object \n",
      " 7   company_size            15000 non-null  object \n",
      " 8   employee_residence      15000 non-null  object \n",
      " 9   remote_ratio            15000 non-null  int64  \n",
      " 10  required_skills         15000 non-null  object \n",
      " 11  education_required      15000 non-null  object \n",
      " 12  years_experience        15000 non-null  int64  \n",
      " 13  industry                15000 non-null  object \n",
      " 14  posting_date            15000 non-null  object \n",
      " 15  application_deadline    15000 non-null  object \n",
      " 16  job_description_length  15000 non-null  int64  \n",
      " 17  benefits_score          15000 non-null  float64\n",
      " 18  company_name            15000 non-null  object \n",
      "dtypes: float64(1), int64(4), object(14)\n",
      "memory usage: 2.2+ MB\n",
      "Dataset info(): None\n",
      "##############################################\n",
      "Dataset describe():           salary_usd  remote_ratio  years_experience  job_description_length  \\\n",
      "count   15000.000000  15000.000000      15000.000000            15000.000000   \n",
      "mean   115348.965133     49.483333          6.253200             1503.314733   \n",
      "std     60260.940438     40.812712          5.545768              576.127083   \n",
      "min     32519.000000      0.000000          0.000000              500.000000   \n",
      "25%     70179.750000      0.000000          2.000000             1003.750000   \n",
      "50%     99705.000000     50.000000          5.000000             1512.000000   \n",
      "75%    146408.500000    100.000000         10.000000             2000.000000   \n",
      "max    399095.000000    100.000000         19.000000             2499.000000   \n",
      "\n",
      "       benefits_score  \n",
      "count    15000.000000  \n",
      "mean         7.504273  \n",
      "std          1.450870  \n",
      "min          5.000000  \n",
      "25%          6.200000  \n",
      "50%          7.500000  \n",
      "75%          8.800000  \n",
      "max         10.000000  \n"
     ]
    }
   ],
   "source": [
    "def quick_info(dataset: pd.DataFrame) -> None:\n",
    "    print(\"##############################################\")\n",
    "    print(f'Shape of the dataset: {dataset.shape}')\n",
    "    print(\"##############################################\")\n",
    "    print(f'Dataset info(): {dataset.info()}')\n",
    "    print(\"##############################################\")\n",
    "    print(f'Dataset describe(): {dataset.describe()}')\n",
    "\n",
    "quick_info(df)"
   ]
  },
  {
   "cell_type": "markdown",
   "id": "b25736a4",
   "metadata": {},
   "source": [
    "### Missin' Values Check "
   ]
  },
  {
   "cell_type": "code",
   "execution_count": 39,
   "id": "4c5bf60d",
   "metadata": {},
   "outputs": [
    {
     "name": "stdout",
     "output_type": "stream",
     "text": [
      "job_id                    0\n",
      "job_title                 0\n",
      "salary_usd                0\n",
      "salary_currency           0\n",
      "experience_level          0\n",
      "employment_type           0\n",
      "company_location          0\n",
      "company_size              0\n",
      "employee_residence        0\n",
      "remote_ratio              0\n",
      "required_skills           0\n",
      "education_required        0\n",
      "years_experience          0\n",
      "industry                  0\n",
      "posting_date              0\n",
      "application_deadline      0\n",
      "job_description_length    0\n",
      "benefits_score            0\n",
      "company_name              0\n",
      "dtype: int64\n"
     ]
    }
   ],
   "source": [
    "print(df.isnull().sum())"
   ]
  },
  {
   "cell_type": "markdown",
   "id": "e96b4419",
   "metadata": {},
   "source": [
    "### Checking Numerical & Categorical Columns"
   ]
  },
  {
   "cell_type": "code",
   "execution_count": 43,
   "id": "dda4b8d2",
   "metadata": {},
   "outputs": [
    {
     "name": "stdout",
     "output_type": "stream",
     "text": [
      "job_id                     object\n",
      "job_title                  object\n",
      "salary_usd                  int64\n",
      "salary_currency            object\n",
      "experience_level           object\n",
      "employment_type            object\n",
      "company_location           object\n",
      "company_size               object\n",
      "employee_residence         object\n",
      "remote_ratio                int64\n",
      "required_skills            object\n",
      "education_required         object\n",
      "years_experience            int64\n",
      "industry                   object\n",
      "posting_date               object\n",
      "application_deadline       object\n",
      "job_description_length      int64\n",
      "benefits_score            float64\n",
      "company_name               object\n",
      "dtype: object\n"
     ]
    }
   ],
   "source": [
    "print(df.dtypes)"
   ]
  },
  {
   "cell_type": "code",
   "execution_count": 49,
   "id": "9153cd52",
   "metadata": {},
   "outputs": [
    {
     "name": "stdout",
     "output_type": "stream",
     "text": [
      "CATEGORICAL COLUMNS:\n",
      "Index(['job_id', 'job_title', 'salary_currency', 'experience_level',\n",
      "       'employment_type', 'company_location', 'company_size',\n",
      "       'employee_residence', 'required_skills', 'education_required',\n",
      "       'industry', 'posting_date', 'application_deadline', 'company_name'],\n",
      "      dtype='object')\n",
      "NUMERICAL COLUMNS:\n",
      "Index(['salary_usd', 'remote_ratio', 'years_experience',\n",
      "       'job_description_length', 'benefits_score'],\n",
      "      dtype='object')\n"
     ]
    }
   ],
   "source": [
    "categorical_cols = df.select_dtypes(['object']).columns\n",
    "numerical_cols = df.select_dtypes(include='number').columns\n",
    "\n",
    "print(\"CATEGORICAL COLUMNS:\")\n",
    "print(categorical_cols)\n",
    "print(\"NUMERICAL COLUMNS:\")\n",
    "print(numerical_cols)"
   ]
  },
  {
   "cell_type": "markdown",
   "id": "4ce3df2a",
   "metadata": {},
   "source": [
    "### Checking How Many Unique Values in Each Column"
   ]
  },
  {
   "cell_type": "code",
   "execution_count": 50,
   "id": "bbab85af",
   "metadata": {},
   "outputs": [
    {
     "name": "stdout",
     "output_type": "stream",
     "text": [
      "job_id: 15000 unique values\n",
      "job_title: 20 unique values\n",
      "salary_usd: 14315 unique values\n",
      "salary_currency: 3 unique values\n",
      "experience_level: 4 unique values\n",
      "employment_type: 4 unique values\n",
      "company_location: 20 unique values\n",
      "company_size: 3 unique values\n",
      "employee_residence: 20 unique values\n",
      "remote_ratio: 3 unique values\n",
      "required_skills: 13663 unique values\n",
      "education_required: 4 unique values\n",
      "years_experience: 20 unique values\n",
      "industry: 15 unique values\n",
      "posting_date: 486 unique values\n",
      "application_deadline: 543 unique values\n",
      "job_description_length: 2000 unique values\n",
      "benefits_score: 51 unique values\n",
      "company_name: 16 unique values\n"
     ]
    }
   ],
   "source": [
    "for col in df.columns:\n",
    "    print(f\"{col}: {df[col].nunique()} unique values\")"
   ]
  },
  {
   "cell_type": "code",
   "execution_count": 57,
   "id": "cc654fd7",
   "metadata": {},
   "outputs": [
    {
     "name": "stdout",
     "output_type": "stream",
     "text": [
      "JOB TITLES\n"
     ]
    },
    {
     "data": {
      "text/plain": [
       "array(['AI Research Scientist', 'AI Software Engineer', 'AI Specialist',\n",
       "       'NLP Engineer', 'AI Consultant', 'AI Architect',\n",
       "       'Principal Data Scientist', 'Data Analyst',\n",
       "       'Autonomous Systems Engineer', 'AI Product Manager',\n",
       "       'Machine Learning Engineer', 'Data Engineer', 'Research Scientist',\n",
       "       'ML Ops Engineer', 'Robotics Engineer', 'Head of AI',\n",
       "       'Deep Learning Engineer', 'Data Scientist',\n",
       "       'Machine Learning Researcher', 'Computer Vision Engineer'],\n",
       "      dtype=object)"
      ]
     },
     "execution_count": 57,
     "metadata": {},
     "output_type": "execute_result"
    }
   ],
   "source": [
    "print(\"JOB TITLES\")\n",
    "df['job_title'].unique()"
   ]
  },
  {
   "cell_type": "markdown",
   "id": "a5d401cb",
   "metadata": {},
   "source": [
    "## Visualizing Our Dataset 😎"
   ]
  },
  {
   "cell_type": "code",
   "execution_count": null,
   "id": "5f40d4ff",
   "metadata": {},
   "outputs": [],
   "source": []
  }
 ],
 "metadata": {
  "kernelspec": {
   "display_name": "aijobs",
   "language": "python",
   "name": "python3"
  },
  "language_info": {
   "codemirror_mode": {
    "name": "ipython",
    "version": 3
   },
   "file_extension": ".py",
   "mimetype": "text/x-python",
   "name": "python",
   "nbconvert_exporter": "python",
   "pygments_lexer": "ipython3",
   "version": "3.13.4"
  }
 },
 "nbformat": 4,
 "nbformat_minor": 5
}
